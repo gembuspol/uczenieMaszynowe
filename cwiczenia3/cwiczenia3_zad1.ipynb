{
  "cells": [
    {
      "cell_type": "markdown",
      "metadata": {
        "id": "view-in-github",
        "colab_type": "text"
      },
      "source": [
        "<a href=\"https://colab.research.google.com/github/gembuspol/uczenieMaszynowe/blob/main/cwiczenia3_zad1.ipynb\" target=\"_parent\"><img src=\"https://colab.research.google.com/assets/colab-badge.svg\" alt=\"Open In Colab\"/></a>"
      ]
    },
    {
      "cell_type": "code",
      "execution_count": 1,
      "id": "be64738a",
      "metadata": {
        "id": "be64738a"
      },
      "outputs": [],
      "source": [
        "import pandas as pd\n",
        "import numpy as np\n",
        "from matplotlib import pyplot as plt\n",
        "from sklearn.cluster import AgglomerativeClustering\n",
        "import scipy.cluster.hierarchy as sch"
      ]
    },
    {
      "cell_type": "code",
      "execution_count": 2,
      "id": "59110060",
      "metadata": {
        "id": "59110060"
      },
      "outputs": [],
      "source": [
        "dataset = pd.read_csv('https://raw.githubusercontent.com/palles77/MachineLearning_Exercise4/main/Employee_Compensation_SF.csv')"
      ]
    },
    {
      "cell_type": "code",
      "execution_count": 3,
      "id": "c9e4e08c",
      "metadata": {
        "id": "c9e4e08c"
      },
      "outputs": [],
      "source": [
        "# function returning column index in a dataframe\n",
        "def column_index(df, query_cols):\n",
        "    cols = df.columns.values\n",
        "    sidx = np.argsort(cols)\n",
        "    return sidx[np.searchsorted(cols,query_cols,sorter=sidx)]"
      ]
    },
    {
      "cell_type": "code",
      "execution_count": 13,
      "id": "5e497da8",
      "metadata": {
        "id": "5e497da8"
      },
      "outputs": [],
      "source": [
        "\n",
        "(column_first, colum_second) = column_index(dataset, ['Total Salary', 'Retirement'])\n",
        "# get sample 1000 rows\n",
        "dataset_for_clustering = dataset.sample(1000).iloc[:, [column_first, colum_second]].values"
      ]
    },
    {
      "cell_type": "code",
      "execution_count": 14,
      "id": "998cb193",
      "metadata": {
        "colab": {
          "base_uri": "https://localhost:8080/",
          "height": 276
        },
        "id": "998cb193",
        "outputId": "ef3ef440-06ca-440d-8f04-659b246d2b32"
      },
      "outputs": [
        {
          "output_type": "display_data",
          "data": {
            "text/plain": [
              "<Figure size 432x288 with 1 Axes>"
            ],
            "image/png": "[encoded data removed]"
          },
          "metadata": {
            "needs_background": "light"
          }
        }
      ],
      "source": [
        "# Drawing dendrogram\n",
        "dendrogram = sch.dendrogram(sch.linkage(dataset_for_clustering, method='ward'))"
      ]
    },
    {
      "cell_type": "code",
      "execution_count": 15,
      "id": "9536dd76",
      "metadata": {
        "id": "9536dd76"
      },
      "outputs": [],
      "source": [
        "model = AgglomerativeClustering(n_clusters = 3, affinity='euclidean', linkage='ward')\n",
        "X=dataset_for_clustering\n",
        "model.fit(X)\n",
        "labels = model.labels_"
      ]
    },
    {
      "cell_type": "code",
      "execution_count": 17,
      "id": "39017592",
      "metadata": {
        "colab": {
          "base_uri": "https://localhost:8080/",
          "height": 279
        },
        "id": "39017592",
        "outputId": "ca0f6782-4e44-4273-ce10-1a0b96634793"
      },
      "outputs": [
        {
          "output_type": "display_data",
          "data": {
            "text/plain": [
              "<Figure size 432x288 with 1 Axes>"
            ],
            "image/png": "[encoded data removed]"
          },
          "metadata": {
            "needs_background": "light"
          }
        }
      ],
      "source": [
        "# Drawing Clusters\n",
        "plt.scatter(X[labels==0, 0], X[labels==0, 1], s=50, marker='o', color='red')\n",
        "plt.scatter(X[labels==1, 0], X[labels==1, 1], s=50, marker='o', color='blue')\n",
        "plt.scatter(X[labels==2, 0], X[labels==2, 1], s=50, marker='o', color='green')\n",
        "#plt.scatter(X[labels==3, 0], X[labels==3, 1], s=50, marker='o', color='purple')\n",
        "#plt.scatter(X[labels==4, 0], X[labels==4, 1], s=50, marker='o', color='orange')\n",
        "plt.xlabel('Total Salary')\n",
        "plt.ylabel('Retirement')\n",
        "plt.show()"
      ]
    }
  ],
  "metadata": {
    "kernelspec": {
      "display_name": "Python 3 (ipykernel)",
      "language": "python",
      "name": "python3"
    },
    "language_info": {
      "codemirror_mode": {
        "name": "ipython",
        "version": 3
      },
      "file_extension": ".py",
      "mimetype": "text/x-python",
      "name": "python",
      "nbconvert_exporter": "python",
      "pygments_lexer": "ipython3",
      "version": "3.9.7"
    },
    "colab": {
      "name": "cwiczenia3-zad1",
      "provenance": [],
      "include_colab_link": true
    }
  },
  "nbformat": 4,
  "nbformat_minor": 5
}
