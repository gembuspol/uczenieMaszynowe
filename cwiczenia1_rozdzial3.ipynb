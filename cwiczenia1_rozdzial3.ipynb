{
  "nbformat": 4,
  "nbformat_minor": 0,
  "metadata": {
    "colab": {
      "provenance": [],
      "authorship_tag": "ABX9TyN0nvxYAt8wEYyMXVJj44wM",
      "include_colab_link": true
    },
    "kernelspec": {
      "name": "python3",
      "display_name": "Python 3"
    },
    "language_info": {
      "name": "python"
    }
  },
  "cells": [
    {
      "cell_type": "markdown",
      "metadata": {
        "id": "view-in-github",
        "colab_type": "text"
      },
      "source": [
        "<a href=\"https://colab.research.google.com/github/gembuspol/uczenieMaszynowe/blob/main/cwiczenia1_rozdzial3.ipynb\" target=\"_parent\"><img src=\"https://colab.research.google.com/assets/colab-badge.svg\" alt=\"Open In Colab\"/></a>"
      ]
    },
    {
      "cell_type": "code",
      "execution_count": 1,
      "metadata": {
        "colab": {
          "base_uri": "https://localhost:8080/"
        },
        "id": "SFKbocfpKixQ",
        "outputId": "53bee98f-477c-4293-ad63-147d13d3bbe7"
      },
      "outputs": [
        {
          "output_type": "stream",
          "name": "stdout",
          "text": [
            "[[0.45678547]\n",
            " [0.5703495 ]\n",
            " [0.48452982]\n",
            " [0.5445105 ]]\n"
          ]
        }
      ],
      "source": [
        "from keras.models import Sequential\n",
        "from keras.layers import *\n",
        "import numpy as np\n",
        "\n",
        "m = Sequential()\n",
        "m.add(Dense(2,input_dim=2, activation='tanh'))\n",
        "m.add(Dense(12,input_dim=2, activation='tanh'))\n",
        "#m.add(Activation('tanh'))\n",
        "\n",
        "m.add(Dense(1,activation='sigmoid'))\n",
        "\n",
        "#m.add(Activation('sigmoid'))\n",
        "\n",
        "X = np.array([[0,0],[0,1],[1,0],[1,1]],'float32')\n",
        "Y = np.array([[0],[1],[1],[0]],'float32')\n",
        "\n",
        "m.compile(optimizer='adam',loss='binary_crossentropy')\n",
        "m.fit(X,Y,batch_size=1,epochs=200,verbose=0)\n",
        "print(m.predict(X))\n"
      ]
    },
    {
      "cell_type": "code",
      "source": [
        "from keras.models import Sequential\n",
        "from keras.layers import *\n",
        "import numpy as np\n",
        "\n",
        "m = Sequential()\n",
        "m.add(Dense(2,input_dim=2, activation='tanh'))\n",
        "m.add(Dense(12,input_dim=2, activation='tanh'))\n",
        "#m.add(Activation('tanh'))\n",
        "\n",
        "m.add(Dense(1,activation='sigmoid'))\n",
        "\n",
        "#m.add(Activation('sigmoid'))\n",
        "\n",
        "X = np.array([[0,0],[0,1],[1,0],[1,1]],'float32')\n",
        "Y = np.array([[0],[1],[1],[0]],'float32')\n",
        "Yand=np.array([[0],[0],[0],[1]],'float32')\n",
        "Yor=np.array([[0],[1],[1],[1]],'float32')\n",
        "Ynor=np.array([[1],[0],[0],[0]],'float32')\n",
        "Ynand=np.array([[1],[1],[1],[1]],'float32')\n",
        "\n",
        "m.compile(optimizer='adam',loss='binary_crossentropy')\n",
        "m.fit(X,Y,batch_size=1,epochs=200,verbose=0)\n",
        "print(m.predict(X))\n",
        "print(\"Bramka AND\")\n",
        "m.fit(X,Yand,batch_size=1,epochs=200,verbose=0)\n",
        "print(m.predict(X))\n",
        "\n",
        "print(\"Bramka OR\")\n",
        "m.fit(X,Yor,batch_size=1,epochs=200,verbose=0)\n",
        "print(m.predict(X))\n",
        "\n",
        "print(\"Bramka NOR\")\n",
        "m.fit(X,Ynor,batch_size=1,epochs=200,verbose=0)\n",
        "print(m.predict(X))\n",
        "\n",
        "print(\"Bramka NAND\")\n",
        "m.fit(X,Ynand,batch_size=1,epochs=200,verbose=0)\n",
        "print(m.predict(X))"
      ],
      "metadata": {
        "colab": {
          "base_uri": "https://localhost:8080/"
        },
        "id": "z5FZT7XtN5E-",
        "outputId": "9904fdfb-3d51-452e-ca00-05bca34d2e6b"
      },
      "execution_count": 8,
      "outputs": [
        {
          "output_type": "stream",
          "name": "stdout",
          "text": [
            "[[0.44755563]\n",
            " [0.39121032]\n",
            " [0.62760067]\n",
            " [0.43180683]]\n",
            "Bramka AND\n",
            "[[0.09460354]\n",
            " [0.43889853]\n",
            " [0.14334106]\n",
            " [0.48463395]]\n",
            "Bramka OR\n",
            "[[0.13130897]\n",
            " [0.9322041 ]\n",
            " [0.9228915 ]\n",
            " [0.98695743]]\n",
            "Bramka NOR\n",
            "[[0.34774584]\n",
            " [0.12802032]\n",
            " [0.3499901 ]\n",
            " [0.12894657]]\n",
            "Bramka NAND\n",
            "[[0.9652982 ]\n",
            " [0.97563803]\n",
            " [0.9330058 ]\n",
            " [0.9737195 ]]\n"
          ]
        }
      ]
    },
    {
      "cell_type": "code",
      "source": [
        "from keras.models import Sequential\n",
        "from keras.layers import *\n",
        "import numpy as np\n",
        "\n",
        "m = Sequential()\n",
        "m.add(Dense(2,input_dim=2, activation='tanh'))\n",
        "m.add(Dense(20,input_dim=16, activation='tanh'))\n",
        "m.add(Dense(30,input_dim=8, activation='tanh'))\n",
        "#m.add(Activation('tanh'))\n",
        "\n",
        "m.add(Dense(1,activation='sigmoid'))\n",
        "\n",
        "#m.add(Activation('sigmoid'))\n",
        "\n",
        "X = np.array([[0,0],[0,1],[1,0],[1,1]],'float32')\n",
        "Y = np.array([[0],[1],[1],[0]],'float32')\n",
        "\n",
        "m.compile(optimizer='adam',loss='binary_crossentropy')\n",
        "m.fit(X,Y,batch_size=1,epochs=200,verbose=0)\n",
        "print(m.predict(X))"
      ],
      "metadata": {
        "colab": {
          "base_uri": "https://localhost:8080/"
        },
        "id": "PpXR5Em6LE6h",
        "outputId": "b0772110-3d8b-4074-8195-dec68f35c81d"
      },
      "execution_count": 2,
      "outputs": [
        {
          "output_type": "stream",
          "name": "stdout",
          "text": [
            "[[0.41237065]\n",
            " [0.6344195 ]\n",
            " [0.5575907 ]\n",
            " [0.21433195]]\n"
          ]
        }
      ]
    },
    {
      "cell_type": "code",
      "source": [
        "#zmiana ilosci warstw i neuronów\n",
        "#from keras.models import Sequential\n",
        "from keras.layers import *\n",
        "import numpy as np\n",
        "\n",
        "m = Sequential()\n",
        "m.add(Dense(2,input_dim=2, activation='tanh'))\n",
        "m.add(Dense(20,input_dim=16, activation='tanh'))\n",
        "m.add(Dense(30,input_dim=8, activation='tanh'))\n",
        "#m.add(Activation('tanh'))\n",
        "\n",
        "m.add(Dense(1,activation='sigmoid'))\n",
        "\n",
        "#m.add(Activation('sigmoid'))\n",
        "\n",
        "X = np.array([[0,0],[0,1],[1,0],[1,1]],'float32')\n",
        "Y = np.array([[0],[1],[1],[0]],'float32')\n",
        "\n",
        "m.compile(optimizer='adam',loss='binary_crossentropy')\n",
        "m.fit(X,Y,batch_size=1,epochs=200,verbose=0)\n",
        "print(m.predict(X))"
      ],
      "metadata": {
        "colab": {
          "base_uri": "https://localhost:8080/"
        },
        "id": "-TnECF5dLSJj",
        "outputId": "e999a470-3567-4d11-a932-6494152f93b2"
      },
      "execution_count": 3,
      "outputs": [
        {
          "output_type": "stream",
          "name": "stdout",
          "text": [
            "[[0.14069033]\n",
            " [0.87183774]\n",
            " [0.44589457]\n",
            " [0.56860715]]\n"
          ]
        }
      ]
    },
    {
      "cell_type": "code",
      "source": [
        "#zmiana ilosci warstw i neuronów\n",
        "#from keras.models import Sequential\n",
        "from keras.layers import *\n",
        "import numpy as np\n",
        "\n",
        "m = Sequential()\n",
        "m.add(Dense(2,input_dim=2, activation='tanh'))\n",
        "m.add(Dense(20,input_dim=16, activation='tanh'))\n",
        "m.add(Dense(30,input_dim=8, activation='tanh'))\n",
        "#m.add(Activation('tanh'))\n",
        "\n",
        "m.add(Dense(1,activation='sigmoid'))\n",
        "\n",
        "#m.add(Activation('sigmoid'))\n",
        "\n",
        "X = np.array([[0,0],[0,1],[1,0],[1,1]],'float32')\n",
        "Y = np.array([[0],[1],[1],[0]],'float32')\n",
        "\n",
        "m.compile(optimizer='adam',loss='binary_crossentropy')\n",
        "m.fit(X,Y,batch_size=1,epochs=200,verbose=0)\n",
        "print(m.predict(X))\n",
        "#rózne optymalizatroy\n",
        "m.compile(optimizer='adadelta',loss='binary_crossentropy')\n",
        "m.fit(X,Y,batch_size=1,epochs=200,verbose=0)\n",
        "result=m.evaluate(X,Y)\n",
        "print(m.predict(X))\n",
        "m.compile(optimizer='ftrl',loss='binary_crossentropy')\n",
        "m.fit(X,Y,batch_size=1,epochs=200,verbose=0)\n",
        "result=m.evaluate(X,Y)\n",
        "print(m.predict(X))"
      ],
      "metadata": {
        "colab": {
          "base_uri": "https://localhost:8080/"
        },
        "id": "BBgEF9dyLt-q",
        "outputId": "d8989422-ca60-4492-af66-ad70db10a6c2"
      },
      "execution_count": 6,
      "outputs": [
        {
          "output_type": "stream",
          "name": "stdout",
          "text": [
            "[[0.31034708]\n",
            " [0.44509336]\n",
            " [0.70625484]\n",
            " [0.5684235 ]]\n",
            "1/1 [==============================] - 0s 82ms/step - loss: 0.5921\n",
            "[[0.30991298]\n",
            " [0.4449134 ]\n",
            " [0.7066237 ]\n",
            " [0.5683977 ]]\n",
            "1/1 [==============================] - 0s 81ms/step - loss: 0.6931\n",
            "[[0.49899638]\n",
            " [0.49899638]\n",
            " [0.49899656]\n",
            " [0.49899656]]\n"
          ]
        }
      ]
    },
    {
      "cell_type": "code",
      "source": [
        "#zmiana ilosci warstw i neuronów\n",
        "#from keras.models import Sequential\n",
        "from keras.layers import *\n",
        "import numpy as np\n",
        "\n",
        "m = Sequential()\n",
        "m.add(Dense(20,input_dim=2, activation='tanh'))\n",
        "m.add(Dense(20,input_dim=16, activation='tanh'))\n",
        "m.add(Dense(30,input_dim=8, activation='tanh'))\n",
        "m.add(Dense(10,input_dim=8, activation='tanh'))\n",
        "m.add(Dense(32,input_dim=8, activation='tanh'))\n",
        "#m.add(Activation('tanh'))\n",
        "\n",
        "m.add(Dense(1,activation='sigmoid'))\n",
        "\n",
        "#m.add(Activation('sigmoid'))\n",
        "\n",
        "X = np.array([[0,0],[0,1],[1,0],[1,1]],'float32')\n",
        "Y = np.array([[0],[1],[1],[0]],'float32')\n",
        "\n",
        "m.compile(optimizer='adam',loss='binary_crossentropy')\n",
        "m.fit(X,Y,batch_size=1,epochs=200,verbose=0)\n",
        "print(m.predict(X))\n",
        "#rózne optymalizatroy\n",
        "m.compile(optimizer='adadelta',loss='binary_crossentropy')\n",
        "m.fit(X,Y,batch_size=1,epochs=200,verbose=0)\n",
        "result=m.evaluate(X,Y)\n",
        "print(m.predict(X))\n",
        "m.compile(optimizer='ftrl',loss='binary_crossentropy')\n",
        "m.fit(X,Y,batch_size=1,epochs=200,verbose=0)\n",
        "result=m.evaluate(X,Y)\n",
        "print(m.predict(X))"
      ],
      "metadata": {
        "colab": {
          "base_uri": "https://localhost:8080/"
        },
        "id": "u-20s6WtM0UZ",
        "outputId": "2b1c9e8d-09d8-47b2-8300-792358ad1211"
      },
      "execution_count": 7,
      "outputs": [
        {
          "output_type": "stream",
          "name": "stdout",
          "text": [
            "[[0.00418374]\n",
            " [0.99425423]\n",
            " [0.9938221 ]\n",
            " [0.01718426]]\n",
            "1/1 [==============================] - 0s 95ms/step - loss: 0.0082\n",
            "[[0.00404486]\n",
            " [0.9944291 ]\n",
            " [0.99399376]\n",
            " [0.01686704]]\n"
          ]
        },
        {
          "output_type": "stream",
          "name": "stderr",
          "text": [
            "WARNING:tensorflow:5 out of the last 5 calls to <function Model.make_test_function.<locals>.test_function at 0x7f3705d91950> triggered tf.function retracing. Tracing is expensive and the excessive number of tracings could be due to (1) creating @tf.function repeatedly in a loop, (2) passing tensors with different shapes, (3) passing Python objects instead of tensors. For (1), please define your @tf.function outside of the loop. For (2), @tf.function has experimental_relax_shapes=True option that relaxes argument shapes that can avoid unnecessary retracing. For (3), please refer to https://www.tensorflow.org/guide/function#controlling_retracing and https://www.tensorflow.org/api_docs/python/tf/function for  more details.\n"
          ]
        },
        {
          "output_type": "stream",
          "name": "stdout",
          "text": [
            "1/1 [==============================] - 0s 113ms/step - loss: 0.6931\n",
            "[[0.5001493]\n",
            " [0.5001493]\n",
            " [0.5001493]\n",
            " [0.5001493]]\n"
          ]
        }
      ]
    }
  ]
}